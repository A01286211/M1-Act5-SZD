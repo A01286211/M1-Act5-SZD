{
  "nbformat": 4,
  "nbformat_minor": 0,
  "metadata": {
    "colab": {
      "provenance": [],
      "authorship_tag": "ABX9TyNShNUQWnQQxxseDONvUay0",
      "include_colab_link": true
    },
    "kernelspec": {
      "name": "python3",
      "display_name": "Python 3"
    },
    "language_info": {
      "name": "python"
    }
  },
  "cells": [
    {
      "cell_type": "markdown",
      "metadata": {
        "id": "view-in-github",
        "colab_type": "text"
      },
      "source": [
        "<a href=\"https://colab.research.google.com/github/A01286211/M1-Act5-SZD/blob/main/M1_Actividad_5_Programaci%C3%B3n_en_Python_Librer%C3%ADas_Numpy_Matplotlib_Pandas.ipynb\" target=\"_parent\"><img src=\"https://colab.research.google.com/assets/colab-badge.svg\" alt=\"Open In Colab\"/></a>"
      ]
    },
    {
      "cell_type": "markdown",
      "source": [
        "# M1 Act 5 Programación en Python\n",
        "### Sebastián Zaragoza Díaz A01286211\n",
        "### Análisis de Ciencia de Datos (Gpo 101)\n",
        "### Prof. Rasikh Tariq"
      ],
      "metadata": {
        "id": "5D0Ul2rycYFA"
      }
    },
    {
      "cell_type": "code",
      "execution_count": 2,
      "metadata": {
        "id": "y2RpxsYZMvoH"
      },
      "outputs": [],
      "source": [
        "import pandas as pd\n",
        "import numpy as np\n",
        "import matplotlib.pyplot as plt"
      ]
    },
    {
      "cell_type": "markdown",
      "source": [
        "### Ejercicio 1 - Numpy"
      ],
      "metadata": {
        "id": "kDMRNseHkEjj"
      }
    },
    {
      "cell_type": "markdown",
      "source": [
        " 1. Crear un vector “x” con 10 ceros y mostrarlo."
      ],
      "metadata": {
        "id": "A7XNzpjNkN-z"
      }
    },
    {
      "cell_type": "code",
      "source": [
        "x = np.zeros(10)\n",
        "print(x)"
      ],
      "metadata": {
        "id": "kqRK3U2akSBY",
        "outputId": "ade65461-a6ed-4748-c140-63cbda14330a",
        "colab": {
          "base_uri": "https://localhost:8080/"
        }
      },
      "execution_count": 7,
      "outputs": [
        {
          "output_type": "stream",
          "name": "stdout",
          "text": [
            "[0. 0. 0. 0. 0. 0. 0. 0. 0. 0.]\n"
          ]
        }
      ]
    },
    {
      "cell_type": "markdown",
      "source": [
        "2. Modificar el quinto elemento del vector x para que su valor sea 3."
      ],
      "metadata": {
        "id": "v8ozzMOakil3"
      }
    },
    {
      "cell_type": "code",
      "source": [
        "x[4] = 3 # índice del vector comienza en 0\n",
        "print(x)"
      ],
      "metadata": {
        "id": "-fqmi4ZykeKE",
        "outputId": "2b78b833-9688-438d-9c81-9dfd07c61f80",
        "colab": {
          "base_uri": "https://localhost:8080/"
        }
      },
      "execution_count": 8,
      "outputs": [
        {
          "output_type": "stream",
          "name": "stdout",
          "text": [
            "[0. 0. 0. 0. 3. 0. 0. 0. 0. 0.]\n"
          ]
        }
      ]
    },
    {
      "cell_type": "markdown",
      "source": [
        "3. Crear un vector “y” con valores del 1 al 20, de 1 en 1. Utiliza la función arange."
      ],
      "metadata": {
        "id": "RGiOnrG3k1A8"
      }
    },
    {
      "cell_type": "code",
      "source": [
        "y = np.arange(1,21)\n",
        "print(y)"
      ],
      "metadata": {
        "id": "rWI0c4KXk-Kc",
        "outputId": "30eb165c-8b32-4b65-f98c-468ac529ca92",
        "colab": {
          "base_uri": "https://localhost:8080/"
        }
      },
      "execution_count": 66,
      "outputs": [
        {
          "output_type": "stream",
          "name": "stdout",
          "text": [
            "[ 1  2  3  4  5  6  7  8  9 10 11 12 13 14 15 16 17 18 19 20]\n"
          ]
        }
      ]
    },
    {
      "cell_type": "markdown",
      "source": [
        "4. Crear un vector “z” con valores del 1 al 20, de 2 en 2."
      ],
      "metadata": {
        "id": "tSPOWWUJlFSh"
      }
    },
    {
      "cell_type": "code",
      "source": [
        "z = np.arange(1,20,2)\n",
        "print(z)"
      ],
      "metadata": {
        "id": "4zYfKx8alHy_",
        "outputId": "3afc5e29-6aa1-40c0-bc79-7849c5f01d2d",
        "colab": {
          "base_uri": "https://localhost:8080/"
        }
      },
      "execution_count": 16,
      "outputs": [
        {
          "output_type": "stream",
          "name": "stdout",
          "text": [
            "[ 1  3  5  7  9 11 13 15 17 19]\n"
          ]
        }
      ]
    },
    {
      "cell_type": "markdown",
      "source": [
        "5. Crear una matriz w de 3x2, con valores iniciales en 0."
      ],
      "metadata": {
        "id": "ax_AGFwnlnTk"
      }
    },
    {
      "cell_type": "code",
      "source": [
        "w = np.zeros([3,2])\n",
        "print(w)"
      ],
      "metadata": {
        "id": "X0r1VNKIlqUH",
        "outputId": "158100f2-cf87-46b6-dafd-425fe525f7da",
        "colab": {
          "base_uri": "https://localhost:8080/"
        }
      },
      "execution_count": 27,
      "outputs": [
        {
          "output_type": "stream",
          "name": "stdout",
          "text": [
            "[[0. 0.]\n",
            " [0. 0.]\n",
            " [0. 0.]]\n"
          ]
        }
      ]
    },
    {
      "cell_type": "markdown",
      "source": [
        "6. Modificar el elemento en la posición 2,2 de la matriz w para que su valor sea 5."
      ],
      "metadata": {
        "id": "LfFcEosWl65s"
      }
    },
    {
      "cell_type": "code",
      "source": [
        "w[1,1] = 5 # De nuevo, índice comienza en 0\n",
        "print(w)"
      ],
      "metadata": {
        "id": "td1OzJkbmykR",
        "outputId": "d04e9574-90e9-4416-9337-afdf1eae9c21",
        "colab": {
          "base_uri": "https://localhost:8080/"
        }
      },
      "execution_count": 29,
      "outputs": [
        {
          "output_type": "stream",
          "name": "stdout",
          "text": [
            "[[0. 0.]\n",
            " [0. 5.]\n",
            " [0. 0.]]\n"
          ]
        }
      ]
    },
    {
      "cell_type": "markdown",
      "source": [
        "7. Crear un vector de 5 elementos, con valores aleatorios enteros entre 1 y 10."
      ],
      "metadata": {
        "id": "w8cGLYASm4rv"
      }
    },
    {
      "cell_type": "code",
      "source": [
        "vec5 = np.random.randint(1,11,5)\n",
        "print(vec5)"
      ],
      "metadata": {
        "id": "1KJQ9QuOnAKY",
        "outputId": "1fe872e1-f48c-41c0-e33e-107e7c46b803",
        "colab": {
          "base_uri": "https://localhost:8080/"
        }
      },
      "execution_count": 61,
      "outputs": [
        {
          "output_type": "stream",
          "name": "stdout",
          "text": [
            "[ 7  4  2 10  2]\n"
          ]
        }
      ]
    },
    {
      "cell_type": "markdown",
      "source": [
        "8. Crear el arreglo x1 de la lista [1,2,3]"
      ],
      "metadata": {
        "id": "qnlPQDObnikq"
      }
    },
    {
      "cell_type": "code",
      "source": [
        "x1 = np.array([1,2,3])\n",
        "print(x1)"
      ],
      "metadata": {
        "id": "FdPL5dStnhui",
        "outputId": "538c27cb-a187-44c4-d811-80f223e9e24e",
        "colab": {
          "base_uri": "https://localhost:8080/"
        }
      },
      "execution_count": 64,
      "outputs": [
        {
          "output_type": "stream",
          "name": "stdout",
          "text": [
            "[1 2 3]\n"
          ]
        }
      ]
    },
    {
      "cell_type": "markdown",
      "source": [
        "9.  Sumar 10 a cada elemento del vector"
      ],
      "metadata": {
        "id": "B0NcpVodnutQ"
      }
    },
    {
      "cell_type": "code",
      "source": [
        "x1 = x1 + 10\n",
        "print(x1)"
      ],
      "metadata": {
        "id": "1MyOBmqGnvJ5",
        "outputId": "14ff1b0c-d627-48b9-8563-257378cd088f",
        "colab": {
          "base_uri": "https://localhost:8080/"
        }
      },
      "execution_count": 65,
      "outputs": [
        {
          "output_type": "stream",
          "name": "stdout",
          "text": [
            "[11 12 13]\n"
          ]
        }
      ]
    },
    {
      "cell_type": "markdown",
      "source": [
        "### Ejercicio 2 - Titanic"
      ],
      "metadata": {
        "id": "W8Ekh53Vn1l8"
      }
    },
    {
      "cell_type": "markdown",
      "source": [
        "1. Generar un DataFrame con los datos del archivo."
      ],
      "metadata": {
        "id": "ISj0DpkuoPDo"
      }
    },
    {
      "cell_type": "code",
      "source": [],
      "metadata": {
        "id": "cWRUGMCnn63b"
      },
      "execution_count": null,
      "outputs": []
    }
  ]
}